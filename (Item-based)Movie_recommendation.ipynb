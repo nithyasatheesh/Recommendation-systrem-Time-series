{
 "cells": [
  {
   "cell_type": "markdown",
   "metadata": {
    "id": "gouxTxBJKHp4"
   },
   "source": [
    "https://www.analyticsvidhya.com/blog/2021/05/item-based-collaborative-filtering-build-your-own-recommender-system/"
   ]
  },
  {
   "cell_type": "markdown",
   "metadata": {},
   "source": [
    "### Item-based Collaborative Filtering "
   ]
  },
  {
   "cell_type": "code",
   "execution_count": 1,
   "metadata": {
    "id": "XsBsRPGGJEPc"
   },
   "outputs": [],
   "source": [
    "import pandas as pd\n",
    "import numpy as np\n",
    "from scipy.sparse import csr_matrix\n",
    "from sklearn.neighbors import NearestNeighbors\n",
    "import matplotlib.pyplot as plt\n",
    "import seaborn as sns\n",
    "import os"
   ]
  },
  {
   "cell_type": "code",
   "execution_count": 2,
   "metadata": {
    "colab": {
     "base_uri": "https://localhost:8080/",
     "height": 206
    },
    "id": "JcfoNCOuJMeg",
    "outputId": "d1c0ffa2-96a4-4902-ecf2-e380a7345bb4"
   },
   "outputs": [
    {
     "data": {
      "text/html": [
       "<div>\n",
       "<style scoped>\n",
       "    .dataframe tbody tr th:only-of-type {\n",
       "        vertical-align: middle;\n",
       "    }\n",
       "\n",
       "    .dataframe tbody tr th {\n",
       "        vertical-align: top;\n",
       "    }\n",
       "\n",
       "    .dataframe thead th {\n",
       "        text-align: right;\n",
       "    }\n",
       "</style>\n",
       "<table border=\"1\" class=\"dataframe\">\n",
       "  <thead>\n",
       "    <tr style=\"text-align: right;\">\n",
       "      <th></th>\n",
       "      <th>user_id</th>\n",
       "      <th>item_id</th>\n",
       "      <th>rating</th>\n",
       "      <th>timestamp</th>\n",
       "    </tr>\n",
       "  </thead>\n",
       "  <tbody>\n",
       "    <tr>\n",
       "      <th>0</th>\n",
       "      <td>196</td>\n",
       "      <td>242</td>\n",
       "      <td>3</td>\n",
       "      <td>881250949</td>\n",
       "    </tr>\n",
       "    <tr>\n",
       "      <th>1</th>\n",
       "      <td>186</td>\n",
       "      <td>302</td>\n",
       "      <td>3</td>\n",
       "      <td>891717742</td>\n",
       "    </tr>\n",
       "    <tr>\n",
       "      <th>2</th>\n",
       "      <td>22</td>\n",
       "      <td>377</td>\n",
       "      <td>1</td>\n",
       "      <td>878887116</td>\n",
       "    </tr>\n",
       "    <tr>\n",
       "      <th>3</th>\n",
       "      <td>244</td>\n",
       "      <td>51</td>\n",
       "      <td>2</td>\n",
       "      <td>880606923</td>\n",
       "    </tr>\n",
       "    <tr>\n",
       "      <th>4</th>\n",
       "      <td>166</td>\n",
       "      <td>346</td>\n",
       "      <td>1</td>\n",
       "      <td>886397596</td>\n",
       "    </tr>\n",
       "  </tbody>\n",
       "</table>\n",
       "</div>"
      ],
      "text/plain": [
       "   user_id  item_id  rating  timestamp\n",
       "0      196      242       3  881250949\n",
       "1      186      302       3  891717742\n",
       "2       22      377       1  878887116\n",
       "3      244       51       2  880606923\n",
       "4      166      346       1  886397596"
      ]
     },
     "execution_count": 2,
     "metadata": {},
     "output_type": "execute_result"
    }
   ],
   "source": [
    "os.chdir(\"D://Files\")\n",
    "header = ['user_id','item_id','rating','timestamp']\n",
    "dataset = pd.read_csv('u.data',sep = '\\t',names = header)\n",
    "dataset.head()"
   ]
  },
  {
   "cell_type": "code",
   "execution_count": 3,
   "metadata": {
    "id": "qLQGRb_vJoNj"
   },
   "outputs": [
    {
     "name": "stdout",
     "output_type": "stream",
     "text": [
      "Original rating matrix :  [[5. 3. 4. ... 0. 0. 0.]\n",
      " [4. 0. 0. ... 0. 0. 0.]\n",
      " [0. 0. 0. ... 0. 0. 0.]\n",
      " ...\n",
      " [5. 0. 0. ... 0. 0. 0.]\n",
      " [0. 0. 0. ... 0. 0. 0.]\n",
      " [0. 5. 0. ... 0. 0. 0.]]\n"
     ]
    }
   ],
   "source": [
    "n_users = dataset.user_id.unique().shape[0]\n",
    "n_items = dataset.item_id.unique().shape[0]\n",
    "n_items = dataset['item_id'].max()\n",
    "A = np.zeros((n_users,n_items))\n",
    "for line in dataset.itertuples():\n",
    "    A[line[1]-1,line[2]-1] = line[3]\n",
    "print(\"Original rating matrix : \",A)\n"
   ]
  },
  {
   "cell_type": "code",
   "execution_count": 4,
   "metadata": {
    "id": "K4bCTp4aJyA5"
   },
   "outputs": [],
   "source": [
    "# convert into binary values 1/0\n",
    "for i in range(len(A)):\n",
    "    for j in range(len(A[0])):\n",
    "        if A[i][j]>=3:\n",
    "            A[i][j]=1\n",
    "        else:\n",
    "            A[i][j]=0"
   ]
  },
  {
   "cell_type": "markdown",
   "metadata": {
    "id": "uUSSMiXteXfO"
   },
   "source": [
    "Maximum ratings are not provided==>sparse matrix\\92% (empty cells)"
   ]
  },
  {
   "cell_type": "code",
   "execution_count": null,
   "metadata": {
    "id": "dK7LDlJselfm"
   },
   "outputs": [],
   "source": [
    "# convert sparse  matrix into dense matrix"
   ]
  },
  {
   "cell_type": "code",
   "execution_count": 5,
   "metadata": {
    "id": "3cgayx91J1LJ"
   },
   "outputs": [
    {
     "name": "stdout",
     "output_type": "stream",
     "text": [
      "  (0, 0)\t1.0\n",
      "  (0, 1)\t1.0\n",
      "  (0, 2)\t1.0\n",
      "  (0, 3)\t1.0\n",
      "  (0, 4)\t1.0\n",
      "  (0, 5)\t1.0\n",
      "  (0, 6)\t1.0\n",
      "  (0, 8)\t1.0\n",
      "  (0, 9)\t1.0\n",
      "  (0, 11)\t1.0\n",
      "  (0, 12)\t1.0\n",
      "  (0, 13)\t1.0\n",
      "  (0, 14)\t1.0\n",
      "  (0, 15)\t1.0\n",
      "  (0, 16)\t1.0\n",
      "  (0, 17)\t1.0\n",
      "  (0, 18)\t1.0\n",
      "  (0, 19)\t1.0\n",
      "  (0, 21)\t1.0\n",
      "  (0, 22)\t1.0\n",
      "  (0, 23)\t1.0\n",
      "  (0, 24)\t1.0\n",
      "  (0, 25)\t1.0\n",
      "  (0, 27)\t1.0\n",
      "  (0, 29)\t1.0\n",
      "  :\t:\n",
      "  (942, 624)\t1.0\n",
      "  (942, 654)\t1.0\n",
      "  (942, 671)\t1.0\n",
      "  (942, 684)\t1.0\n",
      "  (942, 716)\t1.0\n",
      "  (942, 720)\t1.0\n",
      "  (942, 721)\t1.0\n",
      "  (942, 731)\t1.0\n",
      "  (942, 738)\t1.0\n",
      "  (942, 762)\t1.0\n",
      "  (942, 764)\t1.0\n",
      "  (942, 793)\t1.0\n",
      "  (942, 795)\t1.0\n",
      "  (942, 807)\t1.0\n",
      "  (942, 815)\t1.0\n",
      "  (942, 823)\t1.0\n",
      "  (942, 824)\t1.0\n",
      "  (942, 839)\t1.0\n",
      "  (942, 927)\t1.0\n",
      "  (942, 942)\t1.0\n",
      "  (942, 1043)\t1.0\n",
      "  (942, 1073)\t1.0\n",
      "  (942, 1187)\t1.0\n",
      "  (942, 1227)\t1.0\n",
      "  (942, 1329)\t1.0\n"
     ]
    }
   ],
   "source": [
    "csr_sample = csr_matrix(A)\n",
    "#print(csr_sample)"
   ]
  },
  {
   "cell_type": "code",
   "execution_count": 6,
   "metadata": {
    "id": "8U9ILvenJ4L8"
   },
   "outputs": [
    {
     "data": {
      "text/plain": [
       "NearestNeighbors(algorithm='brute', leaf_size=30, metric='cosine',\n",
       "         metric_params=None, n_jobs=-1, n_neighbors=3, p=2, radius=1.0)"
      ]
     },
     "execution_count": 6,
     "metadata": {},
     "output_type": "execute_result"
    }
   ],
   "source": [
    "knn = NearestNeighbors(metric='cosine', algorithm='brute', n_neighbors=3, n_jobs=-1)\n",
    "knn.fit(csr_sample)"
   ]
  },
  {
   "cell_type": "code",
   "execution_count": 7,
   "metadata": {
    "colab": {
     "base_uri": "https://localhost:8080/"
    },
    "id": "YmlIR44RJ7FL",
    "outputId": "2eb5886a-ad54-4a84-8edd-0e0bba8810ea"
   },
   "outputs": [
    {
     "name": "stdout",
     "output_type": "stream",
     "text": [
      "Items liked by user:  [74, 102, 256, 5, 171, 111, 242, 189, 32, 209, 270, 18, 6, 244, 221, 129, 20, 271, 272, 255]\n"
     ]
    }
   ],
   "source": [
    "dataset_sort_des = dataset.sort_values(['user_id', 'timestamp'], ascending=[True, False])\n",
    "filter1 = dataset_sort_des[dataset_sort_des['user_id'] == 1].item_id\n",
    "filter1 = filter1.tolist()\n",
    "filter1 = filter1[:20]\n",
    "print(\"Items liked by user: \",filter1)"
   ]
  },
  {
   "cell_type": "code",
   "execution_count": 9,
   "metadata": {
    "colab": {
     "base_uri": "https://localhost:8080/"
    },
    "id": "Wtno1MgyJ9rQ",
    "outputId": "4613a155-5751-4c0a-f177-b17a032348df"
   },
   "outputs": [
    {
     "name": "stdout",
     "output_type": "stream",
     "text": [
      "Items to be recommended:  [356, 500, 758, 512, 883, 893, 473, 17, 311, 566, 771, 283, 614, 105, 904, 163, 510, 501, 642, 406, 473, 17, 578, 475, 312, 845, 688, 778, 681, 550, 275, 879, 365, 371, 685, 928, 719, 283, 373, 331]\n"
     ]
    }
   ],
   "source": [
    "distances1=[]\n",
    "indices1=[]\n",
    "for i in filter1:\n",
    "    distances , indices = knn.kneighbors(csr_sample[i],n_neighbors=3)\n",
    "    indices = indices.flatten()\n",
    "    indices= indices[1:]\n",
    "    indices1.extend(indices)\n",
    "print(\"Items to be recommended: \",indices1)"
   ]
  },
  {
   "cell_type": "code",
   "execution_count": null,
   "metadata": {},
   "outputs": [],
   "source": []
  }
 ],
 "metadata": {
  "colab": {
   "name": "Movie recom.ipynb",
   "provenance": []
  },
  "kernelspec": {
   "display_name": "Python 3",
   "language": "python",
   "name": "python3"
  },
  "language_info": {
   "codemirror_mode": {
    "name": "ipython",
    "version": 3
   },
   "file_extension": ".py",
   "mimetype": "text/x-python",
   "name": "python",
   "nbconvert_exporter": "python",
   "pygments_lexer": "ipython3",
   "version": "3.7.3"
  }
 },
 "nbformat": 4,
 "nbformat_minor": 1
}
